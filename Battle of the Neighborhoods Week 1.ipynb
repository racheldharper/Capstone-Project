{
    "cells": [
        {
            "cell_type": "markdown",
            "metadata": {},
            "source": "# Capstone Project - Battle of Neighborhoods"
        },
        {
            "cell_type": "markdown",
            "metadata": {},
            "source": "## Business Problem Section (week 1)"
        },
        {
            "cell_type": "markdown",
            "metadata": {},
            "source": "#### Background"
        },
        {
            "cell_type": "markdown",
            "metadata": {},
            "source": "In Canada Toronto is the largest city and financial center of the country. It is also being largely impacted by the Covid-19 pandemic as it is a heavily populated and dense area. With all of the challenges this year is bringing different criteria for choosing a neighborhood may be used in the future. Typically, those who wanted to live in Toronto wanted to live near amenities such as restaurants, gyms and museums. However, with the shut downs lasting at least another month and a possible second wave in the fall this may be changing. Some analysts and economists are predicting people may now want to know that there are more health and wellness essentials such as: parks, outdoor amenities, grocery stores and pharmacies."
        },
        {
            "cell_type": "markdown",
            "metadata": {},
            "source": "#### Business Problem"
        },
        {
            "cell_type": "markdown",
            "metadata": {},
            "source": "In the future if people are looking for places with wellness and living essentials what areas in Toronto might become more popular? \n\nFor home buyers: this will provide an analysis of what neighborhoods to purchase a home in. It also shows business people and real estate executives where current investment might have a large payoff."
        },
        {
            "cell_type": "markdown",
            "metadata": {},
            "source": "## Data "
        },
        {
            "cell_type": "markdown",
            "metadata": {},
            "source": "The data that has been provided so far in this course is used for this analysis of potentially popular regions in Toronto. This analysis extended to the whole data set unlike before with just the Boroughs in Toronto. The areas of Toronto will be clustered by geographical region because this will represent areas that are geographically close to a certain set of amenities. The data has information about Boroughs and neighborhoods however, the most important data is the cross-referenced coordinates. These coordinates will be mapped and clustered to show regions that are geographically close enough for people within the same region to use the same amenities. FourSquare API will be used to see in these regions what the most common type of amenities available to residents are. "
        },
        {
            "cell_type": "code",
            "execution_count": null,
            "metadata": {},
            "outputs": [],
            "source": ""
        }
    ],
    "metadata": {
        "kernelspec": {
            "display_name": "Python 3.6",
            "language": "python",
            "name": "python3"
        },
        "language_info": {
            "codemirror_mode": {
                "name": "ipython",
                "version": 3
            },
            "file_extension": ".py",
            "mimetype": "text/x-python",
            "name": "python",
            "nbconvert_exporter": "python",
            "pygments_lexer": "ipython3",
            "version": "3.6.9"
        }
    },
    "nbformat": 4,
    "nbformat_minor": 4
}